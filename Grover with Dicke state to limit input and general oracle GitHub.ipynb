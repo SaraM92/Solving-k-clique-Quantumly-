{
 "cells": [
  {
   "cell_type": "markdown",
   "metadata": {},
   "source": [
    "# General Implementation of Grover Over Limited Search Space Using Dicke states (Oracle 1)\n",
    "---"
   ]
  },
  {
   "cell_type": "code",
   "execution_count": 1,
   "metadata": {},
   "outputs": [],
   "source": [
    "import networkx as nx\n",
    "import numpy as np\n",
    "import math\n",
    "import itertools as it\n",
    "import matplotlib.pyplot as plt\n",
    "import matplotlib.axes as axes\n",
    "import warnings\n",
    "from random import choice, randint\n",
    "import os\n",
    "import re\n",
    "from functools import reduce\n",
    "import itertools\n",
    "import more_itertools as mit\n",
    "from IPython.display import IFrame\n",
    "from qiskit import QuantumRegister, ClassicalRegister, QuantumCircuit, Aer, execute\n",
    "import operator as op\n",
    "import csv\n",
    "from qiskit.tools.visualization import plot_histogram\n",
    "%matplotlib inline\n",
    "warnings.filterwarnings(\"ignore\", category=UserWarning)\n",
    "S_simulator = Aer.backends(name='statevector_simulator')[0]\n",
    "M_simulator = Aer.backends(name='qasm_simulator')[0]"
   ]
  },
  {
   "cell_type": "code",
   "execution_count": 1,
   "metadata": {},
   "outputs": [],
   "source": [
    "#A function to display results in a ket format (as descripted in arXiv:1903.04359v1)\n",
    "def Measurement(quantumcircuit, *args, **kwargs): \n",
    "\t#Displays the measurement results of a quantum circuit \n",
    "\tp_M = True\n",
    "\tS = 1\n",
    "\tref = False\n",
    "\tNL = False\n",
    "\tif 'shots' in kwargs:\n",
    "\t\tS = int(kwargs['shots'])\n",
    "\tif 'return_M' in kwargs:\n",
    "\t\tret = kwargs['return_M']\n",
    "\tif 'print_M' in kwargs:\n",
    "\t\tp_M = kwargs['print_M']\n",
    "\tif 'column' in kwargs:\n",
    "\t\tNL = kwargs['column']\n",
    "\tM1 = execute(quantumcircuit, M_simulator, shots=S).result().get_counts(quantumcircuit)\n",
    "\tM2 = {}\n",
    "\tk1 = list(M1.keys())\n",
    "\tv1 = list(M1.values())\n",
    "\tfor k in np.arange(len(k1)):\n",
    "\t\tkey_list = list(k1[k])\n",
    "\t\tnew_key = ''\n",
    "\t\tfor j in np.arange(len(key_list)):\n",
    "\t\t\tnew_key = new_key+key_list[len(key_list)-(j+1)]\n",
    "\t\tM2[new_key] = v1[k]\n",
    "\tif(p_M):\n",
    "\t\tk2 = list(M2.keys())\n",
    "\t\tv2 = list(M2.values())\n",
    "\t\tmeasurements = ''\n",
    "\t\tfor i in np.arange(len(k2)):\n",
    "\t\t\tm_str = str(v2[i])+'|'\n",
    "\t\t\tfor j in np.arange(len(k2[i])):\n",
    "\t\t\t\tif(k2[i][j] == '0'):\n",
    "\t\t\t\t\tm_str = m_str + '0' \n",
    "\t\t\t\tif(k2[i][j] == '1'):\n",
    "\t\t\t\t\tm_str = m_str + '1'\n",
    "\t\t\t\tif( k2[i][j] == ' ' ):\n",
    "\t\t\t\t\tm_str = m_str +'>|'\n",
    "\t\t\tm_str = m_str + '>   '\n",
    "\t\t\tif(NL):\n",
    "\t\t\t\tm_str = m_str + '\\n'\n",
    "\t\t\tmeasurements = measurements + m_str\n",
    "\t\t#print(measurements)\n",
    "\t\treturn measurements\n",
    "\tif(ref):\n",
    "\t\treturn M2"
   ]
  },
  {
   "cell_type": "markdown",
   "metadata": {},
   "source": [
    "# Get graph from list of edges\n",
    "---"
   ]
  },
  {
   "cell_type": "code",
   "execution_count": 2,
   "metadata": {},
   "outputs": [
    {
     "data": {
      "image/png": "[encoded data removed]",
      "text/plain": [
       "<Figure size 432x288 with 1 Axes>"
      ]
     },
     "metadata": {
      "needs_background": "light"
     },
     "output_type": "display_data"
    }
   ],
   "source": [
    "#Produce a graph from a list of edges\n",
    "#The edges list must be ordered as in, all edges from node 0 then 1 then 2 and so on...\n",
    "G = nx.Graph()\n",
    "default_axes = plt.axes(frameon=True)\n",
    "#4nodes, triangle\n",
    "edges = [(0, 1), (2, 3), (0, 2), (1, 2)]#The graph we used so far\n",
    "#8nodes, 4node-clique\n",
    "#edges = [(0, 1), (2, 3), (0, 2), (1, 2),(0,3),(0,4),(1,3),(3,4),(3,6),(4,6),(4,5),(5,6),(6,7)]\n",
    "#5nodes, 4 nodes clique\n",
    "#edges = [(0,1),(0,2),(0,3),(1,2),(1,3),(1,4),(2,3),(3,4)]\n",
    "#1- Find number of nodes based on a given list of edges\n",
    "#edges = [(0, 1), (2, 3), (0, 2), (1, 2), (0, 3)]\n",
    "n_nodes = len(set(itertools.chain.from_iterable(edges))) \n",
    "#2- Draw graph based on number of nodes and edges\n",
    "G.add_edges_from(edges)\n",
    "G.add_nodes_from(range(n_nodes))\n",
    "G.add_edges_from(edges)\n",
    "colors = ['r' for node in G.nodes()]\n",
    "pos = nx.shell_layout(G)\n",
    "nx.draw_networkx(G, node_color=colors, node_size=600, alpha=.8, ax=default_axes, pos=pos)"
   ]
  },
  {
   "cell_type": "markdown",
   "metadata": {},
   "source": [
    "# Define the Dicke State generation functions\n",
    "---"
   ]
  },
  {
   "cell_type": "code",
   "execution_count": 3,
   "metadata": {},
   "outputs": [],
   "source": [
    "#Implementation of dicke state as described in arXiv:1904.07358v1\n",
    "def scs(qc,qubits,n,l):\n",
    "    #the qubits will be inputed from buttom to top\n",
    "    #print(math.sqrt(l/n))\n",
    "    if len(qubits) == 2:\n",
    "        qc.cx(qubits[1],qubits[0])\n",
    "        theta = 2*(math.acos(math.sqrt(l/n)))\n",
    "        qc.cry(theta,qubits[0],qubits[1])\n",
    "        qc.cx(qubits[1],qubits[0])\n",
    "    elif len(qubits) == 3:\n",
    "        qc.cx(qubits[2],qubits[0])\n",
    "        theta = 2*(math.acos(math.sqrt(l/n)))\n",
    "        qc.mcry(theta, [qubits[0],qubits[1]],qubits[2], None)\n",
    "        qc.cx(qubits[2],qubits[0])\n",
    "    else:\n",
    "        raise CircuitError(\"Unvalid number of qubits\")\n",
    "    qc.barrier()\n",
    "    return qc\n",
    "\n",
    "def dicke(qc,qubits,n,k):\n",
    "    qc.x(qubits[n-k:])\n",
    "    d = {}\n",
    "    l = 1\n",
    "    while l<=k:\n",
    "        if n == k:\n",
    "            k -= 1\n",
    "        else:\n",
    "            t = []\n",
    "            for i in range(1,k+1):\n",
    "                if i == 1:\n",
    "                    t.append([n-1,n-i-1])\n",
    "                else:\n",
    "                    t.append([n-1,n-i,n-i-1])\n",
    "            d[str(n)+str(k)] = t #[::-1]\n",
    "            n -= 1\n",
    "    d[\"32\"] = [[2,1],[2,1,0]]\n",
    "    d[\"21\"] = [[1,0]]\n",
    "#===============================================================\n",
    "    for key in d.keys():\n",
    "        item = d[key]\n",
    "        l = 1\n",
    "        for sub in item:\n",
    "            fn_in = []\n",
    "            #print(\"=========================\")\n",
    "            #print(sub)\n",
    "            for i in sub:\n",
    "                fn_in = [qubits[i] for i in sub]\n",
    "            #print(int(key[0]),l)\n",
    "            #print(fn_in)\n",
    "            qc = scs(qc,fn_in,int(key[0]),l)\n",
    "            l += 1        \n",
    "    return qc"
   ]
  },
  {
   "cell_type": "markdown",
   "metadata": {},
   "source": [
    "# State Preparation\n",
    "---"
   ]
  },
  {
   "cell_type": "code",
   "execution_count": 4,
   "metadata": {},
   "outputs": [
    {
     "name": "stdout",
     "output_type": "stream",
     "text": [
      "total number of operations in the circuit.\n",
      "30\n",
      "depth of circuit (number of ops on the critical path)\n",
      "28\n",
      "a breakdown of operations by type\n",
      "OrderedDict([('cx', 12), ('barrier', 6), ('u3', 6), ('ccx', 6), ('x', 3), ('cry', 3)])\n"
     ]
    }
   ],
   "source": [
    "#### the size of the clique\n",
    "k = 3 \n",
    "sub_qbits = QuantumRegister(n_nodes)\n",
    "sub_cir = QuantumCircuit(sub_qbits,name=\"state\")\n",
    "sub_cir = dicke(sub_cir,sub_qbits,n_nodes,k)\n",
    "stat_prep = sub_cir.to_instruction()\n",
    "inv_stat_prep = sub_cir.inverse().to_instruction()\n",
    "state_prep_size = sub_cir.decompose().size()-1\n",
    "print(\"total number of operations in the circuit.\")\n",
    "print(sub_cir.size())\n",
    "print(\"depth of circuit (number of ops on the critical path)\")\n",
    "print(sub_cir.depth())\n",
    "print(\"a breakdown of operations by type\")\n",
    "print(sub_cir.count_ops())"
   ]
  },
  {
   "cell_type": "markdown",
   "metadata": {},
   "source": [
    "# Define cz gate\n",
    "---"
   ]
  },
  {
   "cell_type": "code",
   "execution_count": 6,
   "metadata": {},
   "outputs": [],
   "source": [
    "def cnz(qc, num_control, node, anc):\n",
    "    \"\"\"\n",
    "    num_control :  number of control qubit of cnz gate\n",
    "    node :             node qubit\n",
    "    anc :               ancillaly qubit\n",
    "    \"\"\"\n",
    "    if num_control>2:\n",
    "        qc.ccx(node[0], node[1], anc[0])\n",
    "        for i in range(num_control-2):\n",
    "            qc.ccx(node[i+2], anc[i], anc[i+1])\n",
    "        qc.cz(anc[num_control-2], node[num_control])\n",
    "        for i in range(num_control-2)[::-1]:\n",
    "            qc.ccx(node[i+2], anc[i], anc[i+1])\n",
    "        qc.ccx(node[0], node[1], anc[0])\n",
    "    if num_control==2:\n",
    "        qc.h(node[2])\n",
    "        qc.ccx(node[0], node[1], node[2])\n",
    "        qc.h(node[2])\n",
    "    if num_control==1:\n",
    "        qc.cz(node[0], node[1])"
   ]
  },
  {
   "cell_type": "markdown",
   "metadata": {},
   "source": [
    "# The Diff operator\n",
    "---"
   ]
  },
  {
   "cell_type": "code",
   "execution_count": 7,
   "metadata": {},
   "outputs": [],
   "source": [
    "def grover_diff(qc, nodes_qubits,edge_anc,ancilla,stat_prep,inv_stat_prep):\n",
    "    qc.append(inv_stat_prep,qargs=nodes_qubits)\n",
    "    qc.x(nodes_qubits)\n",
    "    #====================================================\n",
    "        #3 control qubits Z gate\n",
    "    cnz(qc,len(nodes_qubits)-1,nodes_qubits[::-1],ancilla)\n",
    "    #====================================================\n",
    "    qc.x(nodes_qubits)\n",
    "    qc.append(stat_prep,qargs=nodes_qubits)  "
   ]
  },
  {
   "cell_type": "markdown",
   "metadata": {},
   "source": [
    "# The Oracle\n",
    "---"
   ]
  },
  {
   "cell_type": "code",
   "execution_count": 8,
   "metadata": {},
   "outputs": [],
   "source": [
    "def edge_counter(qc,qubits,anc,flag_qubit,k):\n",
    "    bin_k = bin(k)[2:][::-1]\n",
    "    l = []\n",
    "    for i in range(len(bin_k)):\n",
    "        if int(bin_k[i]) == 1:\n",
    "            l.append(qubits[i])\n",
    "    qc.mct(l,flag_qubit,[anc])"
   ]
  },
  {
   "cell_type": "code",
   "execution_count": 9,
   "metadata": {},
   "outputs": [],
   "source": [
    "def oracle(k,n_nodes, edges, qc, nodes_qubits, edge_anc, ancilla, neg_base):\n",
    "    #1- edge counter\n",
    "    #forward circuit\n",
    "    qc.barrier()\n",
    "    qc.ccx(nodes_qubits[edges[0][0]],nodes_qubits[edges[0][1]],edge_anc[0])\n",
    "    if len(edge_anc) == 2:\n",
    "        for i in range(1, len(edges)):\n",
    "            qc.mct([nodes_qubits[edges[i][0]], nodes_qubits[edges[i][1]], edge_anc[0]],edge_anc[1], [ancilla[0]])\n",
    "            qc.ccx(nodes_qubits[edges[i][0]],nodes_qubits[edges[i][1]], edge_anc[0])\n",
    "    elif len(edge_anc) == 3:\n",
    "        for i in range(1, len(edges)):\n",
    "            qc.mct([nodes_qubits[edges[i][0]], nodes_qubits[edges[i][1]], edge_anc[0], edge_anc[1]], edge_anc[2], \n",
    "                     [ancilla[0],ancilla[1]])\n",
    "            qc.mct([nodes_qubits[edges[i][0]], nodes_qubits[edges[i][1]], edge_anc[0]], edge_anc[1], [ancilla[0]])\n",
    "            qc.ccx(nodes_qubits[edges[i][0]],nodes_qubits[edges[i][1]], edge_anc[0])\n",
    "    #----------------------------------------------------------------------------------------------------------\n",
    "    #Edges check Qubit\n",
    "    edg_k = int((k/2)*(k-1))\n",
    "    edge_counter(qc,edge_anc,ancilla[0],neg_base[0],edg_k)\n",
    "    #----------------------------------------------------------------------------------------------------------\n",
    "    #Reverse edge count\n",
    "    if len(edge_anc) == 2:\n",
    "        for i in range(len(edges)-1,0,-1):\n",
    "            qc.ccx(nodes_qubits[edges[i][0]],nodes_qubits[edges[i][1]],edge_anc[0])\n",
    "            qc.mct([nodes_qubits[edges[i][0]], nodes_qubits[edges[i][1]], edge_anc[0]],edge_anc[1], [ancilla[0]])\n",
    "    elif len(edge_anc) == 3:\n",
    "        for i in range(len(edges)-1,0,-1):\n",
    "            qc.ccx(nodes_qubits[edges[i][0]],nodes_qubits[edges[i][1]], edge_anc[0])\n",
    "            qc.mct([nodes_qubits[edges[i][0]], nodes_qubits[edges[i][1]], edge_anc[0]], edge_anc[1], [ancilla[0]])\n",
    "            qc.mct([nodes_qubits[edges[i][0]], nodes_qubits[edges[i][1]], edge_anc[0], edge_anc[1]], edge_anc[2], \n",
    "                     [ancilla[0],ancilla[1]])\n",
    "    qc.ccx(nodes_qubits[edges[0][0]],nodes_qubits[edges[0][1]],edge_anc[0])\n",
    "    qc.barrier()"
   ]
  },
  {
   "cell_type": "markdown",
   "metadata": {},
   "source": [
    "# The Algorithm\n",
    "---"
   ]
  },
  {
   "cell_type": "code",
   "execution_count": 10,
   "metadata": {},
   "outputs": [],
   "source": [
    "# Grover algo function\n",
    "def grover(x,k,n_nodes,stat_prep,inv_stat_prep): # X >> Number of iterations\n",
    "    N = 2**n_nodes  # for optimal iterations count\n",
    "    P = len(bin(k)[2:])\n",
    "    nodes_qubits = QuantumRegister(n_nodes, name='nodes')\n",
    "    edge_anc = QuantumRegister(P, name='edge_anc')\n",
    "    ancilla = QuantumRegister(n_nodes-2, name = 'cccx_diff_anc')\n",
    "    neg_base = QuantumRegister(1, name='check_qubits')\n",
    "    class_bits = ClassicalRegister(n_nodes, name='class_reg')\n",
    "    tri_flag = ClassicalRegister(1, name='tri_flag')\n",
    "    qc = QuantumCircuit(nodes_qubits, edge_anc, ancilla, neg_base, class_bits, tri_flag)\n",
    "    # Initialize qunatum flag qubits in |-> state\n",
    "    qc.x(neg_base)\n",
    "    qc.h(neg_base)\n",
    "    # Initializing i/p qubits in superposition\n",
    "    qc.append(stat_prep,qargs=nodes_qubits)\n",
    "    qc.barrier()\n",
    "    # Calculate iteration count\n",
    "    for i in np.arange(x):\n",
    "        qc.barrier()\n",
    "        oracle(k,n_nodes, edges, qc, nodes_qubits, edge_anc, ancilla, neg_base)\n",
    "        qc.barrier()\n",
    "        grover_diff(qc, nodes_qubits,edge_anc,ancilla,stat_prep,inv_stat_prep)\n",
    "    return qc, nodes_qubits, edge_anc, ancilla, neg_base, class_bits, tri_flag"
   ]
  },
  {
   "cell_type": "markdown",
   "metadata": {},
   "source": [
    "# Optimal iterations\n",
    "---"
   ]
  },
  {
   "cell_type": "code",
   "execution_count": 9,
   "metadata": {},
   "outputs": [],
   "source": [
    "def ncr(n, r):\n",
    "    r = min(r, n-r)\n",
    "    numer = reduce(op.mul, range(n, n-r, -1), 1)\n",
    "    denom = reduce(op.mul, range(1, r+1), 1)\n",
    "    return numer / denom"
   ]
  },
  {
   "cell_type": "code",
   "execution_count": 10,
   "metadata": {},
   "outputs": [
    {
     "name": "stdout",
     "output_type": "stream",
     "text": [
      "1\n"
     ]
    }
   ],
   "source": [
    "N_opt_iter = ncr(n_nodes,k) #The new sub-Hilbert space size depending on the number of nodes and the clique size\n",
    "opt_iter = math.floor(math.pi/4*math.sqrt(N_opt_iter))\n",
    "print(opt_iter)"
   ]
  },
  {
   "cell_type": "markdown",
   "metadata": {},
   "source": [
    "# For different iterations\n",
    "---"
   ]
  },
  {
   "cell_type": "code",
   "execution_count": 11,
   "metadata": {},
   "outputs": [
    {
     "name": "stdout",
     "output_type": "stream",
     "text": [
      "===========================\n",
      "at 1 Iterations\n",
      "total number of operations in the circuit.\n",
      "37\n",
      "depth of circuit (number of ops on the critical path)\n",
      "27\n",
      "number of qubits in the circuit\n",
      "9\n",
      "a breakdown of operations by type\n",
      "OrderedDict([('cx', 115), ('t', 52), ('h', 40), ('tdg', 39), ('u3', 27), ('barrier', 23), ('ccx', 18), ('x', 9), ('cry', 9), ('mcu1', 6), ('measure', 4), ('u2', 1)])\n"
     ]
    }
   ],
   "source": [
    "l = [] #a list to store different number of iterations results\n",
    "data = []\n",
    "for i in range(1,2): #Observing the algorithm behaviour for different iterations, optimal iternation is 1\n",
    "    qc, nodes_qubits, edge_anc, ancilla, neg_base, class_bits, tri_flag = grover(i,k,n_nodes,stat_prep,inv_stat_prep)\n",
    "    qc.measure(nodes_qubits,class_bits)\n",
    "    #Executing circuit and show results\n",
    "    ex = execute(qc, M_simulator, shots = 5000)\n",
    "    res = ex.result()\n",
    "    M = res.get_counts(qc)\n",
    "    #printing measurements results\n",
    "    s = oq.Measurement(qc,shots=5000)   \n",
    "    pattern = \"\\d+\\|\\d+\\>\"\n",
    "    res = re.findall(pattern,s)\n",
    "    dct = {}\n",
    "    for item in res:\n",
    "        if item[item.index(\"|\"):] not in dct.keys():\n",
    "            dct[item[item.index(\"|\"):]] = int(item[:item.index(\"|\")]) \n",
    "        else:\n",
    "            dct[item[item.index(\"|\"):]] += int(item[:item.index(\"|\")]) \n",
    "    l.append(dct)\n",
    "    #print(dct)\n",
    "    print(\"===========================\")\n",
    "    print(\"at \"+str(i)+\" Iterations\")\n",
    "    #print(dct)\n",
    "    print(\"total number of operations in the circuit.\")  \n",
    "    print(qc.size())\n",
    "    print(\"depth of circuit (number of ops on the critical path)\")\n",
    "    print(qc.depth())\n",
    "    print(\"number of qubits in the circuit\")\n",
    "    print(len(qc.qubits))\n",
    "    print(\"a breakdown of operations by type\")\n",
    "    print(qc.decompose().count_ops())\n",
    "    data.append([str(i),str(qc.size()),str(qc.depth()),str(len(qc.qubits)),qc.count_ops()])\n"
   ]
  },
  {
   "cell_type": "markdown",
   "metadata": {},
   "source": [
    "# Results\n",
    "---"
   ]
  },
  {
   "cell_type": "code",
   "execution_count": 21,
   "metadata": {},
   "outputs": [
    {
     "data": {
      "image/png": "[encoded data removed]",
      "text/plain": [
       "<Figure size 1080x288 with 1 Axes>"
      ]
     },
     "execution_count": 21,
     "metadata": {},
     "output_type": "execute_result"
    }
   ],
   "source": [
    "#Comparing 5 iterations\n",
    "plot_histogram(l, bar_labels=False,figsize=(15, 4))"
   ]
  }
 ],
 "metadata": {
  "kernelspec": {
   "display_name": "Python 3",
   "language": "python",
   "name": "python3"
  },
  "language_info": {
   "codemirror_mode": {
    "name": "ipython",
    "version": 3
   },
   "file_extension": ".py",
   "mimetype": "text/x-python",
   "name": "python",
   "nbconvert_exporter": "python",
   "pygments_lexer": "ipython3",
   "version": "3.7.3"
  },
  "latex_envs": {
   "LaTeX_envs_menu_present": true,
   "autoclose": true,
   "autocomplete": true,
   "bibliofile": "biblio.bib",
   "cite_by": "apalike",
   "current_citInitial": 1,
   "eqLabelWithNumbers": true,
   "eqNumInitial": 1,
   "hotkeys": {
    "equation": "Ctrl-E",
    "itemize": "Ctrl-I"
   },
   "labels_anchors": false,
   "latex_user_defs": false,
   "report_style_numbering": false,
   "user_envs_cfg": false
  },
  "toc": {
   "base_numbering": 1,
   "nav_menu": {},
   "number_sections": true,
   "sideBar": true,
   "skip_h1_title": false,
   "title_cell": "Table of Contents",
   "title_sidebar": "Contents",
   "toc_cell": false,
   "toc_position": {},
   "toc_section_display": true,
   "toc_window_display": false
  }
 },
 "nbformat": 4,
 "nbformat_minor": 2
}
