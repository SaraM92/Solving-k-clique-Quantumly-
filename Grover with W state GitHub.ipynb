{
 "cells": [
  {
   "cell_type": "markdown",
   "metadata": {},
   "source": [
    "# General Implementation of Grover Over Limited Search Space Using W states (Oracle 1)\n",
    "---"
   ]
  },
  {
   "cell_type": "code",
   "execution_count": 1,
   "metadata": {},
   "outputs": [],
   "source": [
    "import networkx as nx\n",
    "import numpy as np\n",
    "import math\n",
    "import itertools as it\n",
    "import matplotlib.pyplot as plt\n",
    "import matplotlib.axes as axes\n",
    "import warnings\n",
    "from random import choice, randint\n",
    "import os\n",
    "import re\n",
    "import itertools\n",
    "from IPython.display import IFrame\n",
    "from qiskit import QuantumRegister, ClassicalRegister, QuantumCircuit, Aer, execute\n",
    "from qiskit.tools.visualization import plot_histogram\n",
    "import csv\n",
    "%matplotlib inline\n",
    "warnings.filterwarnings(\"ignore\", category=UserWarning)\n",
    "S_simulator = Aer.backends(name='statevector_simulator')[0]\n",
    "M_simulator = Aer.backends(name='qasm_simulator')[0]"
   ]
  },
  {
   "cell_type": "code",
   "execution_count": 12,
   "metadata": {},
   "outputs": [],
   "source": [
    "#A function to display results in a ket format (as descripted in arXiv:1903.04359v1)\n",
    "def Measurement(quantumcircuit, *args, **kwargs): \n",
    "\t#Displays the measurement results of a quantum circuit \n",
    "\tp_M = True\n",
    "\tS = 1\n",
    "\tref = False\n",
    "\tNL = False\n",
    "\tif 'shots' in kwargs:\n",
    "\t\tS = int(kwargs['shots'])\n",
    "\tif 'return_M' in kwargs:\n",
    "\t\tret = kwargs['return_M']\n",
    "\tif 'print_M' in kwargs:\n",
    "\t\tp_M = kwargs['print_M']\n",
    "\tif 'column' in kwargs:\n",
    "\t\tNL = kwargs['column']\n",
    "\tM1 = execute(quantumcircuit, M_simulator, shots=S).result().get_counts(quantumcircuit)\n",
    "\tM2 = {}\n",
    "\tk1 = list(M1.keys())\n",
    "\tv1 = list(M1.values())\n",
    "\tfor k in np.arange(len(k1)):\n",
    "\t\tkey_list = list(k1[k])\n",
    "\t\tnew_key = ''\n",
    "\t\tfor j in np.arange(len(key_list)):\n",
    "\t\t\tnew_key = new_key+key_list[len(key_list)-(j+1)]\n",
    "\t\tM2[new_key] = v1[k]\n",
    "\tif(p_M):\n",
    "\t\tk2 = list(M2.keys())\n",
    "\t\tv2 = list(M2.values())\n",
    "\t\tmeasurements = ''\n",
    "\t\tfor i in np.arange(len(k2)):\n",
    "\t\t\tm_str = str(v2[i])+'|'\n",
    "\t\t\tfor j in np.arange(len(k2[i])):\n",
    "\t\t\t\tif(k2[i][j] == '0'):\n",
    "\t\t\t\t\tm_str = m_str + '0' \n",
    "\t\t\t\tif(k2[i][j] == '1'):\n",
    "\t\t\t\t\tm_str = m_str + '1'\n",
    "\t\t\t\tif( k2[i][j] == ' ' ):\n",
    "\t\t\t\t\tm_str = m_str +'>|'\n",
    "\t\t\tm_str = m_str + '>   '\n",
    "\t\t\tif(NL):\n",
    "\t\t\t\tm_str = m_str + '\\n'\n",
    "\t\t\tmeasurements = measurements + m_str\n",
    "\t\t#print(measurements)\n",
    "\t\treturn measurements\n",
    "\tif(ref):\n",
    "\t\treturn M2"
   ]
  },
  {
   "cell_type": "markdown",
   "metadata": {},
   "source": [
    "# Get graph from list of edges\n",
    "---"
   ]
  },
  {
   "cell_type": "code",
   "execution_count": 2,
   "metadata": {},
   "outputs": [
    {
     "data": {
      "image/png": "[encoded data removed]",
      "text/plain": [
       "<Figure size 432x288 with 1 Axes>"
      ]
     },
     "metadata": {
      "needs_background": "light"
     },
     "output_type": "display_data"
    }
   ],
   "source": [
    "#Produce a graph from a list of edges\n",
    "#The edges list must be ordered as in, all edges from node 0 then 1 then 2 and so on...\n",
    "G = nx.Graph()\n",
    "default_axes = plt.axes(frameon=True)\n",
    "#[(0, 1), (0, 3), (1, 3), (1, 2)] Orignal\n",
    "#[(0, 1), (2, 3), (1, 3), (1, 2)] Test\n",
    "#edges = [(4,1),(4,2),(4,3),(1,2),(1,3),(1,0),(2,3),(2,0)]\n",
    "#edges = [(0, 1), (2, 3), (0, 2), (1, 2)]#The graph we used so far\n",
    "#edges = [(0,1),(0,3),(1,2),(1,3),(2,4),(2,5),(3,4),(4,5)] #two non-overlapping triangles.\n",
    "edges =[(0, 1), (2, 3), (0, 2), (1, 2)]\n",
    "#1- Find number of nodes based on a given list of edges\n",
    "n_nodes = len(set(itertools.chain.from_iterable(edges)))\n",
    "#2- Draw graph based on number of nodes and edges\n",
    "G.add_edges_from(edges)\n",
    "G.add_nodes_from(range(n_nodes))\n",
    "G.add_edges_from(edges)\n",
    "colors = ['r' for node in G.nodes()]\n",
    "pos = nx.shell_layout(G)\n",
    "nx.draw_networkx(G, node_color=colors, node_size=600, alpha=.8, ax=default_axes, pos=pos)"
   ]
  },
  {
   "cell_type": "markdown",
   "metadata": {},
   "source": [
    "# Define the Wn gate\n",
    "---"
   ]
  },
  {
   "cell_type": "code",
   "execution_count": 3,
   "metadata": {},
   "outputs": [],
   "source": [
    "#Implementation of W state as described in arXiv:1807.05572v1\n",
    "def cg (qcir,cQbit,tQbit,theta):\n",
    "    theta_dash = math.asin(math.cos(math.radians(theta/2)))\n",
    "    qcir.u3(theta_dash,0,0,tQbit)\n",
    "    qcir.cx(cQbit,tQbit)\n",
    "    qcir.u3(-theta_dash,0,0,tQbit)\n",
    "    return qcir\n",
    "\n",
    "\n",
    "def wn (qcir,qbits): \n",
    "    for i in range(len(qbits)):\n",
    "        if i == 0:\n",
    "            qcir.x(qbits[0])\n",
    "            qcir.barrier()\n",
    "        else:\n",
    "            p = 1/(len(qbits)-(i-1))\n",
    "            theta = math.degrees(math.acos(math.sqrt(p)))\n",
    "            theta = 2* theta\n",
    "            qcir = cg(qcir,qbits[i-1],qbits[i],theta)\n",
    "            qcir.cx(qbits[i],qbits[i-1])\n",
    "            qcir.barrier()\n",
    "            #print(p)\n",
    "    return qcir,qbits"
   ]
  },
  {
   "cell_type": "markdown",
   "metadata": {},
   "source": [
    "# State Preparation\n",
    "---"
   ]
  },
  {
   "cell_type": "code",
   "execution_count": 4,
   "metadata": {},
   "outputs": [
    {
     "name": "stdout",
     "output_type": "stream",
     "text": [
      "17\n",
      "total number of operations in the circuit.\n",
      "17\n",
      "depth of circuit (number of ops on the critical path)\n",
      "14\n",
      "a breakdown of operations by type\n",
      "OrderedDict([('u3', 6), ('cx', 6), ('x', 5), ('barrier', 4)])\n"
     ]
    }
   ],
   "source": [
    "k = 3 #Size of the clique, in this case a triangle\n",
    "sub_qbits = QuantumRegister(n_nodes)\n",
    "sub_cir = QuantumCircuit(sub_qbits, name=\"state\")\n",
    "sub_cir, sub_qbits = wn(sub_cir, sub_qbits)\n",
    "sub_cir.x(sub_qbits)\n",
    "stat_prep = sub_cir.to_instruction()\n",
    "inv_stat_prep = sub_cir.inverse().to_instruction()\n",
    "print(sub_cir.decompose().size())\n",
    "state_prep_size = sub_cir.decompose().size()-1\n",
    "print(\"total number of operations in the circuit.\")\n",
    "print(sub_cir.size())\n",
    "print(\"depth of circuit (number of ops on the critical path)\")\n",
    "print(sub_cir.depth())\n",
    "print(\"a breakdown of operations by type\")\n",
    "print(sub_cir.count_ops())"
   ]
  },
  {
   "cell_type": "markdown",
   "metadata": {},
   "source": [
    "# Define cz gate\n",
    "---"
   ]
  },
  {
   "cell_type": "code",
   "execution_count": 5,
   "metadata": {},
   "outputs": [],
   "source": [
    "def cnz(qc, num_control, node, anc):\n",
    "    \"\"\"\n",
    "    num_control :  number of control qubit of cnz gate\n",
    "    node :             node qubit\n",
    "    anc :               ancillaly qubit\n",
    "    \"\"\"\n",
    "    if num_control>2:\n",
    "        qc.ccx(node[0], node[1], anc[0])\n",
    "        for i in range(num_control-2):\n",
    "            qc.ccx(node[i+2], anc[i], anc[i+1])\n",
    "        qc.cz(anc[num_control-2], node[num_control])\n",
    "        for i in range(num_control-2)[::-1]:\n",
    "            qc.ccx(node[i+2], anc[i], anc[i+1])\n",
    "        qc.ccx(node[0], node[1], anc[0])\n",
    "    if num_control==2:\n",
    "        qc.h(node[2])\n",
    "        qc.ccx(node[0], node[1], node[2])\n",
    "        qc.h(node[2])\n",
    "    if num_control==1:\n",
    "        qc.cz(node[0], node[1])"
   ]
  },
  {
   "cell_type": "markdown",
   "metadata": {},
   "source": [
    "# The Diff operator\n",
    "---"
   ]
  },
  {
   "cell_type": "code",
   "execution_count": 6,
   "metadata": {},
   "outputs": [],
   "source": [
    "def grover_diff(qc, nodes_qubits,edge_anc,ancilla,stat_prep,inv_stat_prep):\n",
    "    qc.append(inv_stat_prep,qargs=nodes_qubits)\n",
    "    qc.x(nodes_qubits)\n",
    "    #====================================================\n",
    "        #3 control qubits Z gate\n",
    "    cnz(qc,len(nodes_qubits)-1,nodes_qubits[::-1],ancilla)\n",
    "    #====================================================\n",
    "    qc.x(nodes_qubits)\n",
    "    qc.append(stat_prep,qargs=nodes_qubits)  "
   ]
  },
  {
   "cell_type": "markdown",
   "metadata": {},
   "source": [
    "# The Oracle\n",
    "---"
   ]
  },
  {
   "cell_type": "code",
   "execution_count": 7,
   "metadata": {},
   "outputs": [],
   "source": [
    "def edge_counter(qc,qubits,anc,flag_qubit,k):\n",
    "    bin_k = bin(k)[2:][::-1]\n",
    "    l = []\n",
    "    for i in range(len(bin_k)):\n",
    "        if int(bin_k[i]) == 1:\n",
    "            l.append(qubits[i])\n",
    "    qc.mct(l,flag_qubit,[anc])"
   ]
  },
  {
   "cell_type": "code",
   "execution_count": 15,
   "metadata": {},
   "outputs": [],
   "source": [
    "def oracle(n_nodes, edges, qc, nodes_qubits, edge_anc, ancilla, neg_base):\n",
    "    #1- edge counter\n",
    "    #forward circuit\n",
    "    qc.barrier()\n",
    "    qc.ccx(nodes_qubits[edges[0][0]],nodes_qubits[edges[0][1]],edge_anc[0])\n",
    "    for i in range(1,len(edges)):\n",
    "        qc.mct([nodes_qubits[edges[i][0]],nodes_qubits[edges[i][1]],edge_anc[0]],edge_anc[1],[ancilla[0]])\n",
    "        qc.ccx(nodes_qubits[edges[i][0]],nodes_qubits[edges[i][1]],edge_anc[0])\n",
    "    #----------------------------------------------------------------------------------------------------------\n",
    "    #Edges check Qubit\n",
    "    #print(k)\n",
    "    edg_k = int((k/2)*(k-1))\n",
    "    edge_counter(qc,edge_anc,ancilla[0],neg_base[0],edg_k)\n",
    "    #----------------------------------------------------------------------------------------------------------\n",
    "\n",
    "    #4- Reverse edge count\n",
    "    for i in range(len(edges)-1,0,-1):\n",
    "        qc.ccx(nodes_qubits[edges[i][0]],nodes_qubits[edges[i][1]],edge_anc[0])\n",
    "        qc.mct([nodes_qubits[edges[i][0]],nodes_qubits[edges[i][1]],edge_anc[0]],edge_anc[1],[ancilla[0]])\n",
    "    qc.ccx(nodes_qubits[edges[0][0]],nodes_qubits[edges[0][1]],edge_anc[0])\n",
    "    qc.barrier()\n",
    "    #return nodes_qubits, edge_anc,node_anc, ancilla, neg_base, class_bits, tri_flag"
   ]
  },
  {
   "cell_type": "markdown",
   "metadata": {},
   "source": [
    "# The Algorithm\n",
    "---"
   ]
  },
  {
   "cell_type": "code",
   "execution_count": 9,
   "metadata": {},
   "outputs": [],
   "source": [
    "# Grover algo function\n",
    "def grover(x,n_nodes,stat_prep,inv_stat_prep): # X >> Number of iterations\n",
    "    N = 2**n_nodes  # for optimal iterations count \n",
    "    nodes_qubits = QuantumRegister(n_nodes, name='nodes')\n",
    "    edge_anc = QuantumRegister(2, name='edge_anc')\n",
    "    #node_anc = QuantumRegister(2, name='node_anc')\n",
    "    ancilla = QuantumRegister(n_nodes-2, name = 'cccx_diff_anc')\n",
    "    neg_base = QuantumRegister(1, name='check_qubits')\n",
    "    class_bits = ClassicalRegister(n_nodes, name='class_reg')\n",
    "    tri_flag = ClassicalRegister(3, name='tri_flag')\n",
    "    qc = QuantumCircuit(nodes_qubits, edge_anc, ancilla, neg_base, class_bits, tri_flag)\n",
    "    # Initialize qunatum flag qubits in |-> state\n",
    "    qc.x(neg_base[0])\n",
    "    qc.h(neg_base[0])\n",
    "    # Initializing i/p qubits in superposition\n",
    "    qc.append(stat_prep,qargs=nodes_qubits)\n",
    "    qc.barrier()\n",
    "    # Calculate iteration count\n",
    "    iterations = round(math.pi/4*math.sqrt(N))\n",
    "    # Calculate iteration count\n",
    "    for i in np.arange(x):\n",
    "        qc.barrier()\n",
    "        oracle(n_nodes, edges, qc, nodes_qubits, edge_anc,  ancilla, neg_base)\n",
    "        qc.barrier()\n",
    "        grover_diff(qc, nodes_qubits,edge_anc,ancilla,stat_prep,inv_stat_prep)\n",
    "    return qc, nodes_qubits, edge_anc, ancilla, neg_base, class_bits, tri_flag"
   ]
  },
  {
   "cell_type": "markdown",
   "metadata": {},
   "source": [
    "# For different iterations\n",
    "---"
   ]
  },
  {
   "cell_type": "code",
   "execution_count": 19,
   "metadata": {},
   "outputs": [
    {
     "name": "stdout",
     "output_type": "stream",
     "text": [
      "===========================\n",
      "at 1 Iterations\n",
      "{'|1110>': 5000}\n",
      "total number of operations in the circuit.\n",
      "37\n",
      "depth of circuit (number of ops on the critical path)\n",
      "27\n",
      "number of qubits in the circuit\n",
      "9\n",
      "a breakdown of operations by type\n",
      "OrderedDict([('cx', 97), ('t', 52), ('h', 40), ('tdg', 39), ('u3', 27), ('barrier', 17), ('x', 15), ('mcu1', 6), ('measure', 4), ('u2', 1)])\n"
     ]
    }
   ],
   "source": [
    "l = [] #a list to store different number of iterations results\n",
    "N = 2**n_nodes # for iterations count\n",
    "data =[]\n",
    "n_ans = 2\n",
    "iterations = round(math.pi/4*math.sqrt(N/n_ans))\n",
    "for i in range(1,2): #Grover for different iterations (optimal is 1)\n",
    "    qc, nodes_qubits, edge_anc, ancilla, neg_base, class_bits, tri_flag = grover(i,n_nodes,stat_prep,inv_stat_prep)\n",
    "    qc.measure(nodes_qubits,class_bits)\n",
    "    #Executing circuit and show results\n",
    "    ex = execute(qc, M_simulator, shots = 5000)\n",
    "    res = ex.result()\n",
    "    M = res.get_counts(qc)\n",
    "    #printing measurements results\n",
    "    s = Measurement(qc,shots=5000)  \n",
    "    pattern = \"\\d+\\|\\d{4}\\>\"\n",
    "    res = re.findall(pattern,s)\n",
    "    dct = {}\n",
    "    for item in res:\n",
    "        if item[item.index(\"|\"):] not in dct.keys():\n",
    "            dct[item[item.index(\"|\"):]] = int(item[:item.index(\"|\")]) \n",
    "        else:\n",
    "            dct[item[item.index(\"|\"):]] += int(item[:item.index(\"|\")]) \n",
    "    l.append(dct)\n",
    "    #print(dct)\n",
    "    print(\"===========================\")\n",
    "    print(\"at \"+str(i)+\" Iterations\")\n",
    "    print(dct)\n",
    "    print(\"total number of operations in the circuit.\")\n",
    "    print(qc.size())\n",
    "    print(\"depth of circuit (number of ops on the critical path)\")\n",
    "    print(qc.depth())\n",
    "    print(\"number of qubits in the circuit\")\n",
    "    print(len(qc.qubits))\n",
    "    print(\"a breakdown of operations by type\")\n",
    "    print(qc.decompose().count_ops())\n",
    "    data.append([str(i),str(qc.size()),str(qc.depth()),str(len(qc.qubits)),qc.count_ops()])"
   ]
  },
  {
   "cell_type": "markdown",
   "metadata": {},
   "source": [
    "# Adding Noise\n",
    "---"
   ]
  },
  {
   "cell_type": "markdown",
   "metadata": {},
   "source": [
    "## Needed Imports"
   ]
  },
  {
   "cell_type": "code",
   "execution_count": null,
   "metadata": {},
   "outputs": [],
   "source": [
    "from qiskit.quantum_info import Kraus, SuperOp\n",
    "from qiskit.providers.aer import QasmSimulator\n",
    "# Import from Qiskit Aer noise module\n",
    "from qiskit.providers.aer.noise import NoiseModel\n",
    "from qiskit.providers.aer.noise import QuantumError, ReadoutError\n",
    "from qiskit.providers.aer.noise import pauli_error\n",
    "from qiskit.providers.aer.noise import depolarizing_error\n",
    "from qiskit.providers.aer.noise import thermal_relaxation_error\n",
    "simulator = QasmSimulator()"
   ]
  },
  {
   "cell_type": "markdown",
   "metadata": {},
   "source": [
    "## Error Probability"
   ]
  },
  {
   "cell_type": "markdown",
   "metadata": {},
   "source": [
    "### Bit-flip noise"
   ]
  },
  {
   "cell_type": "code",
   "execution_count": null,
   "metadata": {},
   "outputs": [],
   "source": [
    "# Example error probabilities\n",
    "p_reset = 0.3\n",
    "p_meas = 0.3\n",
    "p_gate1 = 0.5\n",
    "\n",
    "# QuantumError objects\n",
    "error_reset = pauli_error([('X', p_reset), ('I', 1 - p_reset)])\n",
    "error_meas = pauli_error([('X',p_meas), ('I', 1 - p_meas)])\n",
    "error_gate1 = pauli_error([('X',p_gate1), ('I', 1 - p_gate1)])\n",
    "error_gate2 = error_gate1.tensor(error_gate1)\n",
    "\n",
    "# Add errors to noise model\n",
    "noise_bit_flip = NoiseModel()\n",
    "noise_bit_flip.add_all_qubit_quantum_error(error_reset, \"reset\")\n",
    "noise_bit_flip.add_all_qubit_quantum_error(error_meas, \"measure\")\n",
    "noise_bit_flip.add_all_qubit_quantum_error(error_gate1, [\"u1\", \"u2\", \"u3\"])\n",
    "noise_bit_flip.add_all_qubit_quantum_error(error_gate2, [\"cx\"])\n",
    "\n",
    "print(noise_bit_flip)"
   ]
  },
  {
   "cell_type": "markdown",
   "metadata": {},
   "source": [
    "### Thermal noise"
   ]
  },
  {
   "cell_type": "code",
   "execution_count": null,
   "metadata": {},
   "outputs": [],
   "source": [
    "def noise_func(n,T1in,T2in):\n",
    "    # T1 and T2 values for qubits 0-3\n",
    "    T1s = np.random.normal(T1in, 10e3, n) # Sampled from normal distribution mean 50 microsec\n",
    "    T2s = np.random.normal(T2in, 10e3, n)  # Sampled from normal distribution mean 50 microsec\n",
    "\n",
    "    # Truncate random T2s <= T1s\n",
    "    T2s = np.array([min(T2s[j], 2 * T1s[j]) for j in range(n)])\n",
    "\n",
    "    # Instruction times (in nanoseconds)\n",
    "    time_u1 = 0   # virtual gate\n",
    "    time_u2 = 50  # (single X90 pulse)\n",
    "    time_u3 = 100 # (two X90 pulses)\n",
    "    time_cx = 300\n",
    "    time_reset = 1000  # 1 microsecond\n",
    "    time_measure = 1000 # 1 microsecond\n",
    "\n",
    "    # QuantumError objects\n",
    "    errors_reset = [thermal_relaxation_error(t1, t2, time_reset)\n",
    "                    for t1, t2 in zip(T1s, T2s)]\n",
    "    errors_measure = [thermal_relaxation_error(t1, t2, time_measure)\n",
    "                      for t1, t2 in zip(T1s, T2s)]\n",
    "    errors_u1  = [thermal_relaxation_error(t1, t2, time_u1)\n",
    "                  for t1, t2 in zip(T1s, T2s)]\n",
    "    errors_u2  = [thermal_relaxation_error(t1, t2, time_u2)\n",
    "                  for t1, t2 in zip(T1s, T2s)]\n",
    "    errors_u3  = [thermal_relaxation_error(t1, t2, time_u3)\n",
    "                  for t1, t2 in zip(T1s, T2s)]\n",
    "    errors_cx = [[thermal_relaxation_error(t1a, t2a, time_cx).expand(\n",
    "                 thermal_relaxation_error(t1b, t2b, time_cx))\n",
    "                  for t1a, t2a in zip(T1s, T2s)]\n",
    "                   for t1b, t2b in zip(T1s, T2s)]\n",
    "\n",
    "    # Add errors to noise model\n",
    "    noise_thermal = NoiseModel()\n",
    "    for j in range(n):\n",
    "        noise_thermal.add_quantum_error(errors_reset[j], \"reset\", [j])\n",
    "        noise_thermal.add_quantum_error(errors_measure[j], \"measure\", [j])\n",
    "        noise_thermal.add_quantum_error(errors_u1[j], \"u1\", [j])\n",
    "        noise_thermal.add_quantum_error(errors_u2[j], \"u2\", [j])\n",
    "        noise_thermal.add_quantum_error(errors_u3[j], \"u3\", [j])\n",
    "        for k in range(n):\n",
    "            noise_thermal.add_quantum_error(errors_cx[j][k], \"cx\", [j, k])\n",
    "\n",
    "    #print(noise_thermal)\n",
    "    return noise_thermal"
   ]
  },
  {
   "cell_type": "markdown",
   "metadata": {},
   "source": [
    "## Simulation\n"
   ]
  },
  {
   "cell_type": "code",
   "execution_count": null,
   "metadata": {},
   "outputs": [],
   "source": [
    "k = 3\n",
    "sub_qbits = QuantumRegister(n_nodes)\n",
    "sub_cir = QuantumCircuit(sub_qbits, name=\"state\")\n",
    "sub_cir, sub_qbits = wn(sub_cir, sub_qbits)\n",
    "sub_cir.x(sub_qbits)\n",
    "stat_prep = sub_cir.to_instruction()\n",
    "inv_stat_prep = sub_cir.inverse().to_instruction()"
   ]
  },
  {
   "cell_type": "code",
   "execution_count": null,
   "metadata": {},
   "outputs": [],
   "source": [
    "l_noise = [] #a list to store different number of iterations results\n",
    "ss = []\n",
    "N = 2**n_nodes # for iterations count\n",
    "data_noise =[]\n",
    "iterations = round(math.pi/4*math.sqrt(N))\n",
    "for i in range(1,6):\n",
    "    qc, nodes_qubits, edge_anc, ancilla, neg_base, class_bits, tri_flag = grover(i,n_nodes,stat_prep,inv_stat_prep)\n",
    "    qc.measure(nodes_qubits,class_bits)\n",
    "    #Executing circuit and show results\n",
    "    T1 = 500e3 #rochester\n",
    "    T2 = 500e3\n",
    "    noise_thermal = noise_func(len(qc.qubits),T1,T2)\n",
    "    ex = execute(qc, simulator, basis_gates=noise_thermal.basis_gates, noise_model=noise_thermal)\n",
    "    #ex = execute(qc, simulator,basis_gates=noise_bit_flip.basis_gates,noise_model=noise_bit_flip)\n",
    "    res = ex.result()\n",
    "    M = res.get_counts(qc)\n",
    "    print(M)\n",
    "    ss.append(M)\n",
    "    #printing measurements results\n",
    "    s = oq.Measurement(qc,shots=5000)  \n",
    "    print(s)\n",
    "    print('============================================')\n",
    "    pattern = \"\\d+\\|\\d+\\>\"\n",
    "    res = re.findall(pattern,s)\n",
    "    dct_noise = {}\n",
    "    for item in res:\n",
    "        if item[item.index(\"|\"):] not in dct_noise.keys():\n",
    "            dct_noise[item[item.index(\"|\"):]] = int(item[:item.index(\"|\")]) \n",
    "        else:\n",
    "            dct_noise[item[item.index(\"|\"):]] += int(item[:item.index(\"|\")]) \n",
    "    l_noise.append(dct_noise)"
   ]
  },
  {
   "cell_type": "code",
   "execution_count": null,
   "metadata": {},
   "outputs": [],
   "source": [
    "h = []\n",
    "for item in ss:\n",
    "    test_dict = {}\n",
    "    for key in item.keys():\n",
    "        k = '|'+key[4:][::-1]+'>'\n",
    "        test_dict[k]= item[key]\n",
    "    h.append(test_dict)\n",
    "print(h)    "
   ]
  }
 ],
 "metadata": {
  "kernelspec": {
   "display_name": "Python 3",
   "language": "python",
   "name": "python3"
  },
  "language_info": {
   "codemirror_mode": {
    "name": "ipython",
    "version": 3
   },
   "file_extension": ".py",
   "mimetype": "text/x-python",
   "name": "python",
   "nbconvert_exporter": "python",
   "pygments_lexer": "ipython3",
   "version": "3.7.3"
  },
  "latex_envs": {
   "LaTeX_envs_menu_present": true,
   "autoclose": true,
   "autocomplete": true,
   "bibliofile": "biblio.bib",
   "cite_by": "apalike",
   "current_citInitial": 1,
   "eqLabelWithNumbers": true,
   "eqNumInitial": 1,
   "hotkeys": {
    "equation": "Ctrl-E",
    "itemize": "Ctrl-I"
   },
   "labels_anchors": false,
   "latex_user_defs": false,
   "report_style_numbering": false,
   "user_envs_cfg": false
  },
  "toc": {
   "base_numbering": 1,
   "nav_menu": {},
   "number_sections": true,
   "sideBar": true,
   "skip_h1_title": false,
   "title_cell": "Table of Contents",
   "title_sidebar": "Contents",
   "toc_cell": false,
   "toc_position": {},
   "toc_section_display": true,
   "toc_window_display": false
  }
 },
 "nbformat": 4,
 "nbformat_minor": 2
}
